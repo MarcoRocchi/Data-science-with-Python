{
  "nbformat": 4,
  "nbformat_minor": 0,
  "metadata": {
    "colab": {
      "name": "00 - Hello world.ipynb",
      "provenance": [],
      "authorship_tag": "ABX9TyO/QJXjaocJ6t5w6FIBoXBs",
      "include_colab_link": true
    },
    "kernelspec": {
      "name": "python3",
      "display_name": "Python 3"
    }
  },
  "cells": [
    {
      "cell_type": "markdown",
      "metadata": {
        "id": "view-in-github",
        "colab_type": "text"
      },
      "source": [
        "<a href=\"https://colab.research.google.com/github/MarcoRocchi/Data-science-with-Python/blob/main/00_Hello_world.ipynb\" target=\"_parent\"><img src=\"https://colab.research.google.com/assets/colab-badge.svg\" alt=\"Open In Colab\"/></a>"
      ]
    },
    {
      "cell_type": "markdown",
      "metadata": {
        "id": "AvigpHuyT6-F"
      },
      "source": [
        "# Hello world!\n",
        "Just to have a start, let's honour the tradition"
      ]
    },
    {
      "cell_type": "code",
      "metadata": {
        "id": "g065anlETVPT",
        "outputId": "e42d5877-a761-49ad-b0b9-2dd3f8981eed",
        "colab": {
          "base_uri": "https://localhost:8080/"
        }
      },
      "source": [
        "print(\"Hello world!\")"
      ],
      "execution_count": 1,
      "outputs": [
        {
          "output_type": "stream",
          "text": [
            "Hello world!\n"
          ],
          "name": "stdout"
        }
      ]
    }
  ]
}