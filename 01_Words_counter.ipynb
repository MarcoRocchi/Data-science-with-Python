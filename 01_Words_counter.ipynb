{
  "nbformat": 4,
  "nbformat_minor": 0,
  "metadata": {
    "colab": {
      "name": "01 - Words counter.ipynb",
      "provenance": [],
      "collapsed_sections": [],
      "authorship_tag": "ABX9TyPSJGsyce/pme/JXVSupivR",
      "include_colab_link": true
    },
    "kernelspec": {
      "name": "python3",
      "display_name": "Python 3"
    }
  },
  "cells": [
    {
      "cell_type": "markdown",
      "metadata": {
        "id": "view-in-github",
        "colab_type": "text"
      },
      "source": [
        "<a href=\"https://colab.research.google.com/github/MarcoRocchi/Data-science-with-Python/blob/main/01_Words_counter.ipynb\" target=\"_parent\"><img src=\"https://colab.research.google.com/assets/colab-badge.svg\" alt=\"Open In Colab\"/></a>"
      ]
    },
    {
      "cell_type": "markdown",
      "metadata": {
        "id": "1hn0OOwEN3J4"
      },
      "source": [
        "# Words counter\n",
        "Given an URL, this programs analizes the web pages and lists the 10 most frequent words"
      ]
    },
    {
      "cell_type": "markdown",
      "metadata": {
        "id": "JdzGNsbqQSEl"
      },
      "source": [
        "Before starting to write the actual code we need to install and import a few libraries."
      ]
    },
    {
      "cell_type": "code",
      "metadata": {
        "id": "B-OkUh-6Qbcx"
      },
      "source": [
        "!pip install validators\n",
        "\n",
        "import validators\n",
        "import urllib \n",
        "import re\n",
        "import collections"
      ],
      "execution_count": null,
      "outputs": []
    },
    {
      "cell_type": "markdown",
      "metadata": {
        "id": "nJ6Fm_ubPOW7"
      },
      "source": [
        "First of all the program asks the user to input an URL, then it checks if the given string is a valid URL. If it's not, it prints an error message and stops the execution, otherwise it tries to download the page. Once the page has been downloaded, it converts the bytes of the page in a string.\n",
        "The lower() function will remove differences between an upper case word and the same word in lower case to simplify future computations."
      ]
    },
    {
      "cell_type": "code",
      "metadata": {
        "id": "UNfN0bJaNrEE"
      },
      "source": [
        "page_url = input(\"Enter the page URL \")\n",
        "if validators.url(page_url) == False:\n",
        "  print(\"The given string is not a well formed URL, execution stops\")\n",
        "else:\n",
        "  try:\n",
        "    with urllib.request.urlopen(page_url) as document:\n",
        "      html = document.read().decode(\"windows-1252\").lower()\n",
        "  except:\n",
        "    print(\"An error occurred while opening the given URL, please check if it's correct and try again\")"
      ],
      "execution_count": null,
      "outputs": []
    },
    {
      "cell_type": "markdown",
      "metadata": {
        "id": "9YZV75yQWO4j"
      },
      "source": [
        "Now that we have a local copy of the page, let's define a regular expression to find out all the words included in the page.\n",
        "Note that we are considering as words even the data contained in html tags."
      ]
    },
    {
      "cell_type": "code",
      "metadata": {
        "id": "rb5Q9NndWl9G"
      },
      "source": [
        "regex_pattern = r\"\\w+\"\n",
        "compiled_pattern = re.compile(regex_pattern, flags=0)\n",
        "words = re.findall(regex_pattern, html, flags=0)"
      ],
      "execution_count": null,
      "outputs": []
    },
    {
      "cell_type": "markdown",
      "metadata": {
        "id": "zxKaQjQglSLt"
      },
      "source": [
        "In the ending, let's find out the 10 most recurrent words."
      ]
    },
    {
      "cell_type": "code",
      "metadata": {
        "id": "h1E3jwgGlWfd"
      },
      "source": [
        "most_recurrent = collections.Counter(words).most_common(10)\n",
        "print(most_recurrent)"
      ],
      "execution_count": null,
      "outputs": []
    }
  ]
}