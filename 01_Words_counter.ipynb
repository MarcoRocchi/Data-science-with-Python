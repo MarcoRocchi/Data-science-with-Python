{
  "nbformat": 4,
  "nbformat_minor": 0,
  "metadata": {
    "colab": {
      "name": "01 - Words counter.ipynb",
      "provenance": [],
      "collapsed_sections": [],
      "authorship_tag": "ABX9TyPSJGsyce/pme/JXVSupivR",
      "include_colab_link": true
    },
    "kernelspec": {
      "name": "python3",
      "display_name": "Python 3"
    }
  },
  "cells": [
    {
      "cell_type": "markdown",
      "metadata": {
        "id": "view-in-github",
        "colab_type": "text"
      },
      "source": [
        "<a href=\"https://colab.research.google.com/github/MarcoRocchi/Data-science-with-Python/blob/main/01_Words_counter.ipynb\" target=\"_parent\"><img src=\"https://colab.research.google.com/assets/colab-badge.svg\" alt=\"Open In Colab\"/></a>"
      ]
    },
    {
      "cell_type": "markdown",
      "metadata": {
        "id": "1hn0OOwEN3J4"
      },
      "source": [
        "# Words counter\n",
        "Given an URL, this programs analizes the web pages and lists the 10 most frequent words"
      ]
    },
    {
      "cell_type": "markdown",
      "metadata": {
        "id": "JdzGNsbqQSEl"
      },
      "source": [
        "Before starting to write the actual code we need to install and import a few libraries."
      ]
    },
    {
      "cell_type": "code",
      "metadata": {
        "id": "B-OkUh-6Qbcx",
        "outputId": "508220c2-5271-4a04-82f8-40a48f150591",
        "colab": {
          "base_uri": "https://localhost:8080/"
        }
      },
      "source": [
        "!pip install validators\n",
        "\n",
        "import validators\n",
        "import urllib \n",
        "import re\n",
        "import collections"
      ],
      "execution_count": null,
      "outputs": [
        {
          "output_type": "stream",
          "text": [
            "Requirement already satisfied: validators in /usr/local/lib/python3.6/dist-packages (0.18.1)\n",
            "Requirement already satisfied: decorator>=3.4.0 in /usr/local/lib/python3.6/dist-packages (from validators) (4.4.2)\n",
            "Requirement already satisfied: six>=1.4.0 in /usr/local/lib/python3.6/dist-packages (from validators) (1.15.0)\n"
          ],
          "name": "stdout"
        }
      ]
    },
    {
      "cell_type": "markdown",
      "metadata": {
        "id": "nJ6Fm_ubPOW7"
      },
      "source": [
        "First of all the program asks the user to input an URL, then it checks if the given string is a valid URL. If it's not, it prints an error message and stops the execution, otherwise it tries to download the page. Once the page has been downloaded, it converts the bytes of the page in a string.\n",
        "The lower() function will remove differences between an upper case word and the same word in lower case to simplify future computations."
      ]
    },
    {
      "cell_type": "code",
      "metadata": {
        "id": "UNfN0bJaNrEE",
        "outputId": "1536c945-660f-46a0-85d7-c1d2340762bd",
        "colab": {
          "base_uri": "https://localhost:8080/"
        }
      },
      "source": [
        "page_url = input(\"Enter the page URL \")\n",
        "if validators.url(page_url) == False:\n",
        "  print(\"The given string is not a well formed URL, execution stops\")\n",
        "else:\n",
        "  try:\n",
        "    with urllib.request.urlopen(page_url) as document:\n",
        "      html = document.read().decode(\"windows-1252\").lower()\n",
        "  except:\n",
        "    print(\"An error occurred while opening the given URL, please check if it's correct and try again\")"
      ],
      "execution_count": null,
      "outputs": [
        {
          "output_type": "stream",
          "text": [
            "Enter the page URL http://www.google.it\n"
          ],
          "name": "stdout"
        }
      ]
    },
    {
      "cell_type": "markdown",
      "metadata": {
        "id": "9YZV75yQWO4j"
      },
      "source": [
        "Now that we have a local copy of the page, let's define a regular expression to find out all the words included in the page.\n",
        "Note that we are considering as words even the data contained in html tags."
      ]
    },
    {
      "cell_type": "code",
      "metadata": {
        "id": "rb5Q9NndWl9G",
        "outputId": "0a006445-b0fe-4e23-a5a6-7836f14bc63f",
        "colab": {
          "base_uri": "https://localhost:8080/"
        }
      },
      "source": [
        "regex_pattern = r\"\\w+\"\n",
        "compiled_pattern = re.compile(regex_pattern, flags=0)\n",
        "words = re.findall(regex_pattern, html, flags=0)"
      ],
      "execution_count": null,
      "outputs": [
        {
          "output_type": "stream",
          "text": [
            "['doctype', 'html', 'html', 'itemscope', 'itemtype', 'http', 'schema', 'org', 'webpage', 'lang', 'en', 'head', 'meta', 'content', 'search', 'the', 'world', 's', 'information', 'including', 'webpages', 'images', 'videos', 'and', 'more', 'google', 'has', 'many', 'special', 'features', 'to', 'help', 'you', 'find', 'exactly', 'what', 'you', 're', 'looking', 'for', 'name', 'description', 'meta', 'content', 'noodp', 'name', 'robots', 'meta', 'content', 'text', 'html', 'charset', 'utf', '8', 'http', 'equiv', 'content', 'type', 'meta', 'content', 'images', 'branding', 'googleg', '1x', 'googleg_standard_color_128dp', 'png', 'itemprop', 'image', 'title', 'google', 'title', 'script', 'nonce', 'aunkdrzw8bb9x2eypmho6a', 'function', 'window', 'google', 'kei', '02xx4yjj5temaxqr4gobw', 'kexpi', '0', '202162', '1100132', '51453', '5662', '731', '223', '5105', '206', '3204', '10', '1226', '364', '1499', '612', '205', '383', '246', '5', '1354', '648', '653', '2799', '49', '265', '3', '65', '454', '140', '175', '217', '270', '2', '10', '427', '119', '322', '112', '454', '318', '90', '2998', '7', '876', '1116293', '1197749', '533', '7', '328978', '13677', '4855', '32691', '16115', '6057', '22627', '9188', '8384', '4858', '1362', '9291', '3020', '4747', '11033', '1808', '4020', '978', '7931', '5297', '2974', '873', '37', '4155', '6430', '1142', '6290', '1571', '5525', '4517', '2777', '919', '2277', '8', '570', '2226', '1593', '1279', '2212', '530', '149', '1103', '840', '517', '1466', '56', '158', '4100', '312', '1135', '1', '3', '2669', '2025', '1775', '143', '377', '1704', '243', '2229', '93', '328', '1284', '16', '2927', '2246', '1813', '1787', '3227', '2845', '7', '12354', '4455', '641', '7876', '4929', '108', '3407', '908', '2', '940', '2615', '2397', '7470', '1', '2842', '432', '3', '346', '1200', '44', '1', '820', '1', '4624', '148', '5990', '7985', '4', '1448', '80', '278', '2', '2024', '224', '1012', '271', '874', '284', '121', '1860', '2393', '74', '1436', '281', '52', '75', '4', '135', '762', '1401', '16', '448', '459', '1553', '4069', '1036', '1315', '3', '3280', '1426', '69', '305', '2310', '1514', '603', '1', '407', '32', '1', '253', '1753', '2658', '239', '4004', '520', '910', '564', '681', '8', '431', '30', '1303', '981', '1570', '138', '3095', '990', '52', '622', '1022', '1386', '253', '2', '820', '2', '1392', '849', '81', '1375', '638', '37', '629', '828', '46', '84', '360', '115', '2', '567', '389', '527', '609', '2887', '992', '1369', '55', '745', '610', '3230', '265', '508', '2', '881', '319', '230', '174', '385', '28', '11', '731', '64', '601', '337', '943', '3', '410', '356', '96', '1768', '2', '772', '1113', '157', '1363', '537', '99', '353', '48', '57', '251', '171', '513', '641', '112', '2', '118', '182', '514', '334', '58', '467', '4', '306', '89', '253', '3', '19', '39', '238', '113', '83', '902', '1', '34', '468', '222', '45', '387', '844', '842', '14', '25', '387', '2', '3', '2', '2', '344', '128', '243', '214', '1340', '658', '16', '1', '333', '473', '116', '25', '2', '194', '161', '431', '270', '313', '169', '766', '271', '371', '2031', '128', '1', '2', '18', '77', '353', '92', '2', '861', '97', '11', '99', '185', '567', '425', '504', '5734067', '3707', '5996993', '370', '2800846', '549', '333', '444', '1', '2', '80', '1', '900', '896', '1', '9', '2', '2551', '1', '889', '59', '736', '2', '561', '1', '4265', '1', '1', '2', '1017', '9', '305', '3299', '248', '595', '1', '774', '72', '501', '129', '193', '2', '2', '122', '5', '88', '17', '19', '32', '17', '3', '8', '46', '23958231', '2700441', '15696', '19124', 'kbl', 'hwbg', 'google', 'sn', 'webhp', 'google', 'khl', 'en', 'function', 'google', 'lc', 'google', 'li', '0', 'google', 'getei', 'function', 'a', 'for', 'var', 'c', 'a', 'a', 'getattribute', 'c', 'a', 'getattribute', 'eid', 'a', 'a', 'parentnode', 'return', 'c', 'google', 'kei', 'google', 'getlei', 'function', 'a', 'for', 'var', 'c', 'null', 'a', 'a', 'getattribute', 'c', 'a', 'getattribute', 'leid', 'a', 'a', 'parentnode', 'return', 'c', 'google', 'ml', 'function', 'return', 'null', 'google', 'time', 'function', 'return', 'date', 'now', 'google', 'log', 'function', 'a', 'c', 'b', 'd', 'g', 'if', 'b', 'google', 'logurl', 'a', 'c', 'b', 'd', 'g', 'a', 'new', 'image', 'var', 'e', 'google', 'lc', 'f', 'google', 'li', 'e', 'f', 'a', 'a', 'onerror', 'a', 'onload', 'a', 'onabort', 'function', 'delete', 'e', 'f', 'google', 'vel', 'google', 'vel', 'lu', 'google', 'vel', 'lu', 'b', 'a', 'src', 'b', 'google', 'li', 'f', '1', 'google', 'logurl', 'function', 'a', 'c', 'b', 'd', 'g', 'var', 'e', 'f', 'google', 'ls', 'b', '1', 'c', 'search', 'ei', 'e', 'ei', 'google', 'getei', 'd', '1', 'c', 'search', 'lei', 'd', 'google', 'getlei', 'd', 'e', 'lei', 'd', 'd', 'b', 'google', 'cshid', '1', 'c', 'search', 'cshid', 'slh', 'a', 'd', 'cshid', 'google', 'cshid', 'b', 'b', 'g', 'gen_204', 'atyp', 'i', 'ct', 'a', 'cad', 'c', 'e', 'f', 'zx', 'google', 'time', 'd', 'http', 'i', 'test', 'b', 'https', 'window', 'location', 'protocol', 'google', 'ml', 'error', 'a', '1', 'src', 'b', 'glmm', '1', 'b', 'return', 'b', 'call', 'this', 'function', 'google', 'y', 'google', 'x', 'function', 'a', 'b', 'if', 'a', 'var', 'c', 'a', 'id', 'else', 'do', 'c', 'math', 'random', 'while', 'google', 'y', 'c', 'google', 'y', 'c', 'a', 'b', 'return', '1', 'google', 'lm', 'google', 'plm', 'function', 'a', 'google', 'lm', 'push', 'apply', 'google', 'lm', 'a', 'google', 'lq', 'google', 'load', 'function', 'a', 'b', 'c', 'google', 'lq', 'push', 'a', 'b', 'c', 'google', 'loadall', 'function', 'a', 'b', 'google', 'lq', 'push', 'a', 'b', 'call', 'this', 'google', 'f', 'function', 'document', 'documentelement', 'addeventlistener', 'submit', 'function', 'b', 'var', 'a', 'if', 'a', 'b', 'target', 'var', 'c', 'a', 'getattribute', 'data', 'submitfalse', 'a', '1', 'c', 'q', 'c', 'a', 'elements', 'q', 'value', '0', '1', 'else', 'a', '1', 'a', 'b', 'preventdefault', 'b', 'stoppropagation', '0', 'document', 'documentelement', 'addeventlistener', 'click', 'function', 'b', 'var', 'a', 'a', 'for', 'a', 'b', 'target', 'a', 'a', 'document', 'documentelement', 'a', 'a', 'parentelement', 'if', 'a', 'a', 'tagname', 'a', '1', 'a', 'getattribute', 'data', 'nohref', 'break', 'a', 'a', '1', 'a', 'b', 'preventdefault', '0', 'call', 'this', 'var', 'a', 'window', 'location', 'b', 'a', 'href', 'indexof', 'if', '0', 'b', 'var', 'c', 'a', 'href', 'substring', 'b', '1', 'q', 'test', 'c', '1', 'c', 'indexof', 'a', 'replace', 'search', 'c', 'replace', 'fp', 'g', 'cad', 'h', 'script', 'style', 'gbar', 'guser', 'font', 'size', '13px', 'padding', 'top', '1px', 'important', 'gbar', 'height', '22px', 'guser', 'padding', 'bottom', '7px', 'important', 'text', 'align', 'right', 'gbh', 'gbd', 'border', 'top', '1px', 'solid', 'c9d7f1', 'font', 'size', '1px', 'gbh', 'height', '0', 'position', 'absolute', 'top', '24px', 'width', '100', 'media', 'all', 'gb1', 'height', '22px', 'margin', 'right', '5em', 'vertical', 'align', 'top', 'gbar', 'float', 'left', 'a', 'gb1', 'a', 'gb4', 'text', 'decoration', 'underline', 'important', 'a', 'gb1', 'a', 'gb4', 'color', '00c', 'important', 'gbi', 'gb4', 'color', 'dd8e27', 'important', 'gbf', 'gb4', 'color', '900', 'important', 'style', 'style', 'body', 'td', 'a', 'p', 'h', 'font', 'family', 'arial', 'sans', 'serif', 'body', 'margin', '0', 'overflow', 'y', 'scroll', 'gog', 'padding', '3px', '8px', '0', 'td', 'line', 'height', '8em', 'gac_m', 'td', 'line', 'height', '17px', 'form', 'margin', 'bottom', '20px', 'h', 'color', '1558d6', 'q', 'color', '4b11a8', 'em', 'font', 'weight', 'bold', 'font', 'style', 'normal', 'lst', 'height', '25px', 'width', '496px', 'gsfi', 'lst', 'font', '18px', 'arial', 'sans', 'serif', 'gsfs', 'font', '17px', 'arial', 'sans', 'serif', 'ds', 'display', 'inline', 'box', 'display', 'inline', 'block', 'margin', '3px', '0', '4px', 'margin', 'left', '4px', 'input', 'font', 'family', 'inherit', 'body', 'background', 'fff', 'color', '000', 'a', 'color', '4b11a8', 'text', 'decoration', 'none', 'a', 'hover', 'a', 'active', 'text', 'decoration', 'underline', 'fl', 'a', 'color', '1558d6', 'a', 'visited', 'color', '4b11a8', 'sblc', 'padding', 'top', '5px', 'sblc', 'a', 'display', 'block', 'margin', '2px', '0', 'margin', 'left', '13px', 'font', 'size', '11px', 'lsbb', 'background', 'f8f9fa', 'border', 'solid', '1px', 'border', 'color', 'dadce0', '70757a', '70757a', 'dadce0', 'height', '30px', 'lsbb', 'display', 'block', 'wqqanb', 'a', 'display', 'inline', 'block', 'margin', '0', '12px', 'lsb', 'background', 'url', 'images', 'nav_logo229', 'png', '0', '261px', 'repeat', 'x', 'border', 'none', 'color', '000', 'cursor', 'pointer', 'height', '30px', 'margin', '0', 'outline', '0', 'font', '15px', 'arial', 'sans', 'serif', 'vertical', 'align', 'top', 'lsb', 'active', 'background', 'dadce0', 'lst', 'focus', 'outline', 'none', 'style', 'script', 'nonce', 'aunkdrzw8bb9x2eypmho6a', 'script', 'head', 'body', 'bgcolor', 'fff', 'script', 'nonce', 'aunkdrzw8bb9x2eypmho6a', 'function', 'var', 'src', 'images', 'nav_logo229', 'png', 'var', 'iesg', 'false', 'document', 'body', 'onload', 'function', 'window', 'n', 'window', 'n', 'if', 'document', 'images', 'new', 'image', 'src', 'src', 'if', 'iesg', 'document', 'f', 'document', 'f', 'q', 'focus', 'document', 'gbqf', 'document', 'gbqf', 'q', 'focus', 'script', 'div', 'id', 'mngb', 'div', 'id', 'gbar', 'nobr', 'b', 'class', 'gb1', 'search', 'b', 'a', 'class', 'gb1', 'href', 'http', 'www', 'google', 'com', 'imghp', 'hl', 'en', 'tab', 'wi', 'images', 'a', 'a', 'class', 'gb1', 'href', 'http', 'maps', 'google', 'com', 'maps', 'hl', 'en', 'tab', 'wl', 'maps', 'a', 'a', 'class', 'gb1', 'href', 'https', 'play', 'google', 'com', 'hl', 'en', 'tab', 'w8', 'play', 'a', 'a', 'class', 'gb1', 'href', 'http', 'www', 'youtube', 'com', 'gl', 'us', 'tab', 'w1', 'youtube', 'a', 'a', 'class', 'gb1', 'href', 'https', 'news', 'google', 'com', 'tab', 'wn', 'news', 'a', 'a', 'class', 'gb1', 'href', 'https', 'mail', 'google', 'com', 'mail', 'tab', 'wm', 'gmail', 'a', 'a', 'class', 'gb1', 'href', 'https', 'drive', 'google', 'com', 'tab', 'wo', 'drive', 'a', 'a', 'class', 'gb1', 'style', 'text', 'decoration', 'none', 'href', 'https', 'www', 'google', 'com', 'intl', 'en', 'about', 'products', 'tab', 'wh', 'u', 'more', 'u', 'raquo', 'a', 'nobr', 'div', 'div', 'id', 'guser', 'width', '100', 'nobr', 'span', 'id', 'gbn', 'class', 'gbi', 'span', 'span', 'id', 'gbf', 'class', 'gbf', 'span', 'span', 'id', 'gbe', 'span', 'a', 'href', 'http', 'www', 'google', 'com', 'history', 'optout', 'hl', 'en', 'class', 'gb4', 'web', 'history', 'a', 'a', 'href', 'preferences', 'hl', 'en', 'class', 'gb4', 'settings', 'a', 'a', 'target', '_top', 'id', 'gb_70', 'href', 'https', 'accounts', 'google', 'com', 'servicelogin', 'hl', 'en', 'passive', 'true', 'continue', 'http', 'www', 'google', 'it', 'ec', 'gazaaq', 'class', 'gb4', 'sign', 'in', 'a', 'nobr', 'div', 'div', 'class', 'gbh', 'style', 'left', '0', 'div', 'div', 'class', 'gbh', 'style', 'right', '0', 'div', 'div', 'center', 'br', 'clear', 'all', 'id', 'lgpd', 'div', 'id', 'lga', 'img', 'alt', 'google', 'height', '92', 'src', 'images', 'branding', 'googlelogo', '1x', 'googlelogo_white_background_color_272x92dp', 'png', 'style', 'padding', '28px', '0', '14px', 'width', '272', 'id', 'hplogo', 'br', 'br', 'div', 'form', 'action', 'search', 'name', 'f', 'table', 'cellpadding', '0', 'cellspacing', '0', 'tr', 'valign', 'top', 'td', 'width', '25', 'nbsp', 'td', 'td', 'align', 'center', 'nowrap', 'input', 'name', 'ie', 'value', 'iso', '8859', '1', 'type', 'hidden', 'input', 'value', 'en', 'name', 'hl', 'type', 'hidden', 'input', 'name', 'source', 'type', 'hidden', 'value', 'hp', 'input', 'name', 'biw', 'type', 'hidden', 'input', 'name', 'bih', 'type', 'hidden', 'div', 'class', 'ds', 'style', 'height', '32px', 'margin', '4px', '0', 'input', 'class', 'lst', 'style', 'margin', '0', 'padding', '5px', '8px', '0', '6px', 'vertical', 'align', 'top', 'color', '000', 'autocomplete', 'off', 'value', 'title', 'google', 'search', 'maxlength', '2048', 'name', 'q', 'size', '57', 'div', 'br', 'style', 'line', 'height', '0', 'span', 'class', 'ds', 'span', 'class', 'lsbb', 'input', 'class', 'lsb', 'value', 'google', 'search', 'name', 'btng', 'type', 'submit', 'span', 'span', 'span', 'class', 'ds', 'span', 'class', 'lsbb', 'input', 'class', 'lsb', 'id', 'tsuid1', 'value', 'i', 'm', 'feeling', 'lucky', 'name', 'btni', 'type', 'submit', 'script', 'nonce', 'aunkdrzw8bb9x2eypmho6a', 'function', 'var', 'id', 'tsuid1', 'document', 'getelementbyid', 'id', 'onclick', 'function', 'if', 'this', 'form', 'q', 'value', 'this', 'checked', '1', 'if', 'this', 'form', 'iflsig', 'this', 'form', 'iflsig', 'disabled', 'false', 'else', 'top', 'location', 'doodles', 'script', 'input', 'value', 'ainfcbyaaaaax7fcc', 'sam8d_1vv1kpxtvftxlognqko1', 'name', 'iflsig', 'type', 'hidden', 'span', 'span', 'td', 'td', 'class', 'fl', 'sblc', 'align', 'left', 'nowrap', 'width', '25', 'a', 'href', 'advanced_search', 'hl', 'en', 'amp', 'authuser', '0', 'advanced', 'search', 'a', 'td', 'tr', 'table', 'input', 'id', 'gbv', 'name', 'gbv', 'type', 'hidden', 'value', '1', 'script', 'nonce', 'aunkdrzw8bb9x2eypmho6a', 'function', 'var', 'a', 'b', '1', 'if', 'document', 'document', 'getelementbyid', 'if', 'undefined', 'typeof', 'xmlhttprequest', 'b', '2', 'else', 'if', 'undefined', 'typeof', 'activexobject', 'var', 'c', 'd', 'e', 'msxml2', 'xmlhttp', '6', '0', 'msxml2', 'xmlhttp', '3', '0', 'msxml2', 'xmlhttp', 'microsoft', 'xmlhttp', 'for', 'c', '0', 'd', 'e', 'c', 'try', 'new', 'activexobject', 'd', 'b', '2', 'catch', 'h', 'a', 'b', 'if', '2', 'a', '1', 'location', 'search', 'indexof', 'gbv', '2', 'var', 'f', 'google', 'gbvu', 'g', 'document', 'getelementbyid', 'gbv', 'g', 'g', 'value', 'a', 'f', 'window', 'settimeout', 'function', 'location', 'href', 'f', '0', 'call', 'this', 'script', 'form', 'div', 'id', 'gac_scont', 'div', 'div', 'style', 'font', 'size', '83', 'min', 'height', '3', '5em', 'br', 'div', 'id', 'gws', 'output', 'pages', 'elements', 'homepage_additional_languages__als', 'style', 'gws', 'output', 'pages', 'elements', 'homepage_additional_languages__als', 'font', 'size', 'small', 'margin', 'bottom', '24px', 'sivcob', 'display', 'inline', 'block', 'line', 'height', '28px', 'sivcob', 'a', 'padding', '0', '3px', 'h6sw5', 'display', 'inline', 'block', 'margin', '0', '2px', 'white', 'space', 'nowrap', 'z4hgwe', 'display', 'inline', 'block', 'margin', '0', '2px', 'style', 'div', 'id', 'sivcob', 'google', 'offered', 'in', 'a', 'href', 'http', 'www', 'google', 'it', 'setprefs', 'sig', '0_', 'go', 'sjb1_dpjjhztkcahoahmwsy', '3d', 'amp', 'hl', 'it', 'amp', 'source', 'homepage', 'amp', 'sa', 'x', 'amp', 'ved', '0ahukewjm8roh84ttahuul6ykhepxahuq2zgbcau', 'italiano', 'a', 'div', 'div', 'div', 'span', 'id', 'footer', 'div', 'style', 'font', 'size', '10pt', 'div', 'style', 'margin', '19px', 'auto', 'text', 'align', 'center', 'id', 'wqqanb', 'a', 'href', 'intl', 'en', 'ads', 'advertising', 'programs', 'a', 'a', 'href', 'services', 'business', 'solutions', 'a', 'a', 'href', 'intl', 'en', 'about', 'html', 'about', 'google', 'a', 'a', 'href', 'http', 'www', 'google', 'it', 'setprefdomain', 'prefdom', 'us', 'amp', 'sig', 'k_d59ykdqlyfoyir08cqcxadapqny', '3d', 'id', 'fehl', 'google', 'com', 'a', 'div', 'div', 'p', 'style', 'font', 'size', '8pt', 'color', '70757a', 'copy', '2020', 'a', 'href', 'intl', 'en', 'policies', 'privacy', 'privacy', 'a', 'a', 'href', 'intl', 'en', 'policies', 'terms', 'terms', 'a', 'p', 'span', 'center', 'script', 'nonce', 'aunkdrzw8bb9x2eypmho6a', 'function', 'window', 'google', 'cdo', 'height', '0', 'width', '0', 'function', 'var', 'a', 'window', 'innerwidth', 'b', 'window', 'innerheight', 'if', 'a', 'b', 'var', 'c', 'window', 'document', 'd', 'css1compat', 'c', 'compatmode', 'c', 'documentelement', 'c', 'body', 'a', 'd', 'clientwidth', 'b', 'd', 'clientheight', 'a', 'b', 'a', 'google', 'cdo', 'width', 'b', 'google', 'cdo', 'height', 'google', 'log', 'client_204', 'atyp', 'i', 'biw', 'a', 'bih', 'b', 'ei', 'google', 'kei', 'call', 'this', 'function', 'var', 'u', 'xjs', '_', 'js', 'k', 'x3dxjs', 'hp', 'en_us', '_f2lwsnuciu', 'o', 'm', 'x3dsb_he', 'd', 'am', 'x3dadxbha', 'd', 'x3d1', 'rs', 'x3dact90ofy50kg9xllgdgdqeh9t5pkd2b6iq', 'var', 'c', 'this', 'self', 'e', 'w', '_', '0', '2', 'f', 'null', 'g', 'function', 'a', 'return', 'a', 'a', 'queryselector', 'a', 'queryselector', 'script', 'nonce', 'a', 'a', 'nonce', 'a', 'getattribute', 'nonce', 'e', 'test', 'a', 'a', 'h', 'function', 'a', 'return', 'a', 'var', 'l', 'var', 'n', 'function', 'a', 'b', 'this', 'a', 'b', 'm', 'a', 'm', 'settimeout', 'function', 'var', 'a', 'document', 'var', 'b', 'script', 'application', 'xhtml', 'xml', 'a', 'contenttype', 'b', 'b', 'tolowercase', 'b', 'a', 'createelement', 'b', 'a', 'u', 'if', 'void', '0', 'l', 'var', 'd', 'null', 'var', 'k', 'c', 'trustedtypes', 'if', 'k', 'k', 'createpolicy', 'try', 'd', 'k', 'createpolicy', 'goog', 'html', 'createhtml', 'h', 'createscript', 'h', 'createscripturl', 'h', 'catch', 'p', 'c', 'console', 'c', 'console', 'error', 'p', 'message', 'l', 'd', 'else', 'l', 'd', 'a', 'd', 'l', 'd', 'createscripturl', 'a', 'a', 'a', 'new', 'n', 'a', 'm', 'b', 'src', 'a', 'instanceof', 'n', 'a', 'constructor', 'n', 'a', 'a', 'type_error', 'trustedresourceurl', 'a', 'b', 'ownerdocument', 'b', 'ownerdocument', 'defaultview', 'a', 'c', 'a', 'g', 'a', 'document', 'null', 'f', 'f', 'g', 'c', 'document', 'a', 'f', 'a', 'b', 'setattribute', 'nonce', 'a', 'google', 'timers', 'google', 'timers', 'load', 'google', 'tick', 'google', 'tick', 'load', 'xjsls', 'document', 'body', 'appendchild', 'b', '0', 'function', 'window', 'google', 'xjsu', 'xjs', '_', 'js', 'k', 'x3dxjs', 'hp', 'en_us', '_f2lwsnuciu', 'o', 'm', 'x3dsb_he', 'd', 'am', 'x3dadxbha', 'd', 'x3d1', 'rs', 'x3dact90ofy50kg9xllgdgdqeh9t5pkd2b6iq', 'function', '_dumpexception', 'e', 'throw', 'e', 'function', '_f_installcss', 'c', 'function', 'google', 'jl', 'dw', 'false', 'em', 'emw', 'false', 'lls', 'default', 'pdt', '0', 'snet', 'true', 'uwp', 'true', 'function', 'var', 'pmc', 'x22d', 'x22', 'x22sb_he', 'x22', 'x22agen', 'x22', 'true', 'x22cgen', 'x22', 'true', 'x22client', 'x22', 'x22heirloom', 'hp', 'x22', 'x22dh', 'x22', 'true', 'x22dhqt', 'x22', 'true', 'x22ds', 'x22', 'x22', 'x22', 'x22ffql', 'x22', 'x22en', 'x22', 'x22fl', 'x22', 'true', 'x22host', 'x22', 'x22google', 'it', 'x22', 'x22isbh', 'x22', '28', 'x22jsonp', 'x22', 'true', 'x22msgs', 'x22', 'x22cibl', 'x22', 'x22clear', 'search', 'x22', 'x22dym', 'x22', 'x22did', 'you', 'mean', 'x22', 'x22lcky', 'x22', 'x22i', 'u0026', '39', 'm', 'feeling', 'lucky', 'x22', 'x22lml', 'x22', 'x22learn', 'more', 'x22', 'x22oskt', 'x22', 'x22input', 'tools', 'x22', 'x22psrc', 'x22', 'x22this', 'search', 'was', 'removed', 'from', 'your', 'u003ca', 'href', 'x3d', 'x22', 'history', 'x22', 'u003eweb', 'history', 'u003c', 'a', 'u003e', 'x22', 'x22psrl', 'x22', 'x22remove', 'x22', 'x22sbit', 'x22', 'x22search', 'by', 'image', 'x22', 'x22srch', 'x22', 'x22google', 'search', 'x22', 'x22nrft', 'x22', 'false', 'x22ovr', 'x22', 'x22pq', 'x22', 'x22', 'x22', 'x22refpd', 'x22', 'true', 'x22rfs', 'x22', 'x22sbas', 'x22', 'x220', '3px', '8px', '0', 'rgba', '0', '0', '0', '0', '2', '0', '0', '0', '1px', 'rgba', '0', '0', '0', '0', '08', 'x22', 'x22sbpl', 'x22', '16', 'x22sbpr', 'x22', '16', 'x22scd', 'x22', '10', 'x22stok', 'x22', 'x221hr2h93di9debhquysk4apxmydc', 'x22', 'x22uhde', 'x22', 'false', 'google', 'pmc', 'json', 'parse', 'pmc', 'script', 'body', 'html']\n"
          ],
          "name": "stdout"
        }
      ]
    },
    {
      "cell_type": "markdown",
      "metadata": {
        "id": "zxKaQjQglSLt"
      },
      "source": [
        "In the ending, let's find out the 10 most recurrent words."
      ]
    },
    {
      "cell_type": "code",
      "metadata": {
        "id": "h1E3jwgGlWfd",
        "outputId": "bc86f8c5-e2a8-4d70-f458-2375e103ae2d",
        "colab": {
          "base_uri": "https://localhost:8080/"
        }
      },
      "source": [
        "most_recurrent = collections.Counter(words).most_common(10)\n",
        "print(most_recurrent)"
      ],
      "execution_count": null,
      "outputs": [
        {
          "output_type": "stream",
          "text": [
            "[('a', 155), ('google', 73), ('b', 54), ('x22', 54), ('0', 50), ('c', 40), ('1', 36), ('function', 35), ('2', 27), ('var', 27)]\n"
          ],
          "name": "stdout"
        }
      ]
    }
  ]
}